{
 "cells": [
  {
   "cell_type": "code",
   "execution_count": 4,
   "metadata": {},
   "outputs": [],
   "source": [
    "from tools import MemorizeTool\n",
    "from run import create_memory\n",
    "from utils import get_creds\n",
    "from langchain.docstore.document import Document\n"
   ]
  },
  {
   "cell_type": "code",
   "execution_count": 5,
   "metadata": {},
   "outputs": [],
   "source": [
    "keys = get_creds(\"credentials.json\")\n",
    "memory = create_memory(keys)"
   ]
  },
  {
   "cell_type": "code",
   "execution_count": 3,
   "metadata": {},
   "outputs": [],
   "source": [
    "t = MemorizeTool(memory=memory)"
   ]
  },
  {
   "cell_type": "code",
   "execution_count": 12,
   "metadata": {},
   "outputs": [],
   "source": [
    "doc = Document(page_content='[2303.17760] CAMEL: Communicative Agents for \"Mind\" Exploration of Large Scale Language Model Society\\nSkip to main content\\nWe gratefully acknowledge support fromthe Simons Foundation and member institutions.\\n> cs > arXiv:2303.17760\\nHelp | Advanced Search\\nAll fields\\nTitle\\nAuthor\\nAbstract\\nComments\\nJournal reference\\nACM classification\\nMSC classification\\nReport number\\narXiv identifier\\nDOI\\nORCID\\narXiv author ID\\nHelp pages\\nFull text\\nSearch\\nopen search\\nGO\\nopen navigation menu\\nquick links\\nLogin\\nHelp Pages\\nAbout\\nComputer Science > Artificial Intelligence\\narXiv:2303.17760 (cs)\\n[Submitted on 31 Mar 2023]\\nTitle:CAMEL: Communicative Agents for \"Mind\" Exploration of Large Scale Language Model Society\\nAuthors:Guohao Li, Hasan Abed Al Kader Hammoud, Hani Itani, Dmitrii Khizbullin, Bernard Ghanem\\nDownload a PDF of the paper titled CAMEL: Communicative Agents for \"Mind\" Exploration of Large Scale Language Model Society, by Guohao Li and 4 other authors\\nDownload PDF\\nAbstract:', metadata={'source': 'https://arxiv.org/abs/2303.17760'})"
   ]
  },
  {
   "cell_type": "code",
   "execution_count": 15,
   "metadata": {},
   "outputs": [
    {
     "data": {
      "text/plain": [
       "['7bb492aa-939e-405c-9b69-796f480bf74f']"
      ]
     },
     "execution_count": 15,
     "metadata": {},
     "output_type": "execute_result"
    }
   ],
   "source": [
    "memory.add_documents([doc])"
   ]
  },
  {
   "cell_type": "code",
   "execution_count": 25,
   "metadata": {},
   "outputs": [],
   "source": [
    "from langchain.chat_models import ChatOpenAI\n",
    "from langchain.agents import load_tools\n",
    "from run import make_tools, create_memory\n",
    "\n",
    "memory = create_memory(keys)\n",
    "tools = make_tools(memory)\n",
    "\n",
    "fast_llm = ChatOpenAI(model_name=\"gpt-3.5-turbo\", temperature=0)\n"
   ]
  },
  {
   "cell_type": "code",
   "execution_count": 78,
   "metadata": {},
   "outputs": [],
   "source": [
    "from importlib import reload\n",
    "\n",
    "import chains\n",
    "reload(chains)\n",
    "import chains\n",
    "import auto_wiki_gpt_prompt\n",
    "reload(auto_wiki_gpt_prompt)\n",
    "import auto_wiki_gpt_prompt\n",
    "from langchain.schema import SystemMessage\n",
    "\n",
    "ts = chains.ToolSelectionChain.from_llm(\n",
    "    llm=ChatOpenAI(model_name=\"gpt-3.5-turbo\", temperature=0, request_timeout=180), \n",
    "    objective=\"rule the world\",\n",
    "    tools=tools)\n",
    "\n",
    "messages = []\n",
    "for i in range(20):\n",
    "    messages.append(SystemMessage(content=f\"m{i}\"))"
   ]
  },
  {
   "cell_type": "code",
   "execution_count": null,
   "metadata": {},
   "outputs": [],
   "source": [
    "out = ts.prompt.format_messages(\n",
    "    memory=memory.as_retriever(), \n",
    "    messages=messages,\n",
    "    objective=\"objective\",\n",
    "    task=\"task\",\n",
    "    user_input=\"user_input\")\n",
    "\n",
    "for o in out:\n",
    "    print(o.content)"
   ]
  },
  {
   "attachments": {},
   "cell_type": "markdown",
   "metadata": {},
   "source": [
    "# Check PDFs load"
   ]
  },
  {
   "cell_type": "code",
   "execution_count": 84,
   "metadata": {},
   "outputs": [],
   "source": [
    "from langchain.requests import TextRequestsWrapper\n",
    "from bs4 import BeautifulSoup\n",
    "\n",
    "from langchain.document_loaders import PyPDFLoader\n"
   ]
  },
  {
   "cell_type": "code",
   "execution_count": 81,
   "metadata": {},
   "outputs": [],
   "source": [
    "url = \"https://arxiv.org/pdf/2303.16199.pdf\"\n",
    "\n",
    "requests_wrapper = TextRequestsWrapper()\n",
    "page = requests_wrapper.get(url)\n",
    "\n",
    "page_text = BeautifulSoup(page, \"html.parser\").get_text()"
   ]
  },
  {
   "cell_type": "code",
   "execution_count": 86,
   "metadata": {},
   "outputs": [],
   "source": [
    "loader = PyPDFLoader(url)"
   ]
  },
  {
   "cell_type": "code",
   "execution_count": 87,
   "metadata": {},
   "outputs": [],
   "source": [
    "pages = loader.load_and_split()"
   ]
  },
  {
   "cell_type": "code",
   "execution_count": 90,
   "metadata": {},
   "outputs": [],
   "source": [
    "text = \"\".join(p.page_content for p in pages)"
   ]
  }
 ],
 "metadata": {
  "kernelspec": {
   "display_name": "auto-wiki-Mm3_joNn-py3.10",
   "language": "python",
   "name": "python3"
  },
  "language_info": {
   "codemirror_mode": {
    "name": "ipython",
    "version": 3
   },
   "file_extension": ".py",
   "mimetype": "text/x-python",
   "name": "python",
   "nbconvert_exporter": "python",
   "pygments_lexer": "ipython3",
   "version": "3.10.10"
  },
  "orig_nbformat": 4
 },
 "nbformat": 4,
 "nbformat_minor": 2
}
