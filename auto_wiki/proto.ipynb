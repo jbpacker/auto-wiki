{
 "cells": [
  {
   "cell_type": "code",
   "execution_count": 5,
   "metadata": {},
   "outputs": [],
   "source": [
    "from tools import MemorizeTool\n",
    "from run import create_memory\n",
    "from utils import get_creds\n",
    "from langchain.docstore.document import Document\n"
   ]
  },
  {
   "cell_type": "code",
   "execution_count": 2,
   "metadata": {},
   "outputs": [],
   "source": [
    "keys = get_creds(\"credentials.json\")\n",
    "memory = create_memory(keys)"
   ]
  },
  {
   "cell_type": "code",
   "execution_count": 3,
   "metadata": {},
   "outputs": [],
   "source": [
    "t = MemorizeTool(memory=memory)"
   ]
  },
  {
   "cell_type": "code",
   "execution_count": 12,
   "metadata": {},
   "outputs": [],
   "source": [
    "doc = Document(page_content='[2303.17760] CAMEL: Communicative Agents for \"Mind\" Exploration of Large Scale Language Model Society\\nSkip to main content\\nWe gratefully acknowledge support fromthe Simons Foundation and member institutions.\\n> cs > arXiv:2303.17760\\nHelp | Advanced Search\\nAll fields\\nTitle\\nAuthor\\nAbstract\\nComments\\nJournal reference\\nACM classification\\nMSC classification\\nReport number\\narXiv identifier\\nDOI\\nORCID\\narXiv author ID\\nHelp pages\\nFull text\\nSearch\\nopen search\\nGO\\nopen navigation menu\\nquick links\\nLogin\\nHelp Pages\\nAbout\\nComputer Science > Artificial Intelligence\\narXiv:2303.17760 (cs)\\n[Submitted on 31 Mar 2023]\\nTitle:CAMEL: Communicative Agents for \"Mind\" Exploration of Large Scale Language Model Society\\nAuthors:Guohao Li, Hasan Abed Al Kader Hammoud, Hani Itani, Dmitrii Khizbullin, Bernard Ghanem\\nDownload a PDF of the paper titled CAMEL: Communicative Agents for \"Mind\" Exploration of Large Scale Language Model Society, by Guohao Li and 4 other authors\\nDownload PDF\\nAbstract:', metadata={'source': 'https://arxiv.org/abs/2303.17760'})"
   ]
  },
  {
   "cell_type": "code",
   "execution_count": 15,
   "metadata": {},
   "outputs": [
    {
     "data": {
      "text/plain": [
       "['7bb492aa-939e-405c-9b69-796f480bf74f']"
      ]
     },
     "execution_count": 15,
     "metadata": {},
     "output_type": "execute_result"
    }
   ],
   "source": [
    "memory.add_documents([doc])"
   ]
  }
 ],
 "metadata": {
  "kernelspec": {
   "display_name": "auto-wiki-Mm3_joNn-py3.10",
   "language": "python",
   "name": "python3"
  },
  "language_info": {
   "codemirror_mode": {
    "name": "ipython",
    "version": 3
   },
   "file_extension": ".py",
   "mimetype": "text/x-python",
   "name": "python",
   "nbconvert_exporter": "python",
   "pygments_lexer": "ipython3",
   "version": "3.10.10"
  },
  "orig_nbformat": 4
 },
 "nbformat": 4,
 "nbformat_minor": 2
}
