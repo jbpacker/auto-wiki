{
 "cells": [
  {
   "cell_type": "code",
   "execution_count": 4,
   "metadata": {},
   "outputs": [],
   "source": [
    "from tools import MemorizeTool\n",
    "from run import create_memory\n",
    "from utils import get_creds\n",
    "from langchain.docstore.document import Document\n"
   ]
  },
  {
   "cell_type": "code",
   "execution_count": 5,
   "metadata": {},
   "outputs": [],
   "source": [
    "keys = get_creds(\"credentials.json\")\n",
    "memory = create_memory(keys)"
   ]
  },
  {
   "cell_type": "code",
   "execution_count": 3,
   "metadata": {},
   "outputs": [],
   "source": [
    "t = MemorizeTool(memory=memory)"
   ]
  },
  {
   "cell_type": "code",
   "execution_count": 12,
   "metadata": {},
   "outputs": [],
   "source": [
    "doc = Document(page_content='[2303.17760] CAMEL: Communicative Agents for \"Mind\" Exploration of Large Scale Language Model Society\\nSkip to main content\\nWe gratefully acknowledge support fromthe Simons Foundation and member institutions.\\n> cs > arXiv:2303.17760\\nHelp | Advanced Search\\nAll fields\\nTitle\\nAuthor\\nAbstract\\nComments\\nJournal reference\\nACM classification\\nMSC classification\\nReport number\\narXiv identifier\\nDOI\\nORCID\\narXiv author ID\\nHelp pages\\nFull text\\nSearch\\nopen search\\nGO\\nopen navigation menu\\nquick links\\nLogin\\nHelp Pages\\nAbout\\nComputer Science > Artificial Intelligence\\narXiv:2303.17760 (cs)\\n[Submitted on 31 Mar 2023]\\nTitle:CAMEL: Communicative Agents for \"Mind\" Exploration of Large Scale Language Model Society\\nAuthors:Guohao Li, Hasan Abed Al Kader Hammoud, Hani Itani, Dmitrii Khizbullin, Bernard Ghanem\\nDownload a PDF of the paper titled CAMEL: Communicative Agents for \"Mind\" Exploration of Large Scale Language Model Society, by Guohao Li and 4 other authors\\nDownload PDF\\nAbstract:', metadata={'source': 'https://arxiv.org/abs/2303.17760'})"
   ]
  },
  {
   "cell_type": "code",
   "execution_count": 15,
   "metadata": {},
   "outputs": [
    {
     "data": {
      "text/plain": [
       "['7bb492aa-939e-405c-9b69-796f480bf74f']"
      ]
     },
     "execution_count": 15,
     "metadata": {},
     "output_type": "execute_result"
    }
   ],
   "source": [
    "memory.add_documents([doc])"
   ]
  },
  {
   "cell_type": "code",
   "execution_count": 25,
   "metadata": {},
   "outputs": [],
   "source": [
    "from langchain.chat_models import ChatOpenAI\n",
    "from langchain.agents import load_tools\n",
    "from run import make_tools, create_memory\n",
    "\n",
    "memory = create_memory(keys)\n",
    "tools = make_tools(memory)\n",
    "\n",
    "fast_llm = ChatOpenAI(model_name=\"gpt-3.5-turbo\", temperature=0)\n"
   ]
  },
  {
   "cell_type": "code",
   "execution_count": 60,
   "metadata": {},
   "outputs": [],
   "source": [
    "from importlib import reload\n",
    "\n",
    "import chains\n",
    "reload(chains)\n",
    "import chains\n",
    "import auto_wiki_gpt_prompt\n",
    "reload(auto_wiki_gpt_prompt)\n",
    "import auto_wiki_gpt_prompt\n",
    "from langchain.schema import SystemMessage\n",
    "\n",
    "ts = chains.ToolSelectionChain.from_llm(\n",
    "    llm=ChatOpenAI(model_name=\"gpt-3.5-turbo\", temperature=0, request_timeout=180), \n",
    "    objective=\"rule the world\",\n",
    "    tools=tools)\n",
    "\n",
    "messages = []\n",
    "for i in range(20):\n",
    "    messages.append(SystemMessage(content=f\"m{i}\"))"
   ]
  },
  {
   "cell_type": "code",
   "execution_count": 61,
   "metadata": {},
   "outputs": [
    {
     "name": "stdout",
     "output_type": "stream",
     "text": [
      "You are a tool selection AI. Your job is to effectively prompt and use tools to complete a task and ultimately your objective.\n",
      "Put as much detailed information from your memory into the tool prompt as possible.\n",
      "\n",
      "ULTIMATE OBJECTIVE:\n",
      "objective\n",
      "\n",
      "CURRENT TASK:\n",
      "task\n",
      "\n",
      "Commands:\n",
      "1. Google Search Results JSON: A wrapper around Google Search. Useful for when you need to answer questions about current events. Input should be a search query. Output is a JSON array of the query results, args json schema: {\"query\": {\"title\": \"Query\", \"type\": \"string\"}}\n",
      "2. query_webpage: Browse a webpage and retrieve the information relevant to the question., args json schema: {\"url\": {\"title\": \"Url\", \"type\": \"string\"}, \"question\": {\"title\": \"Question\", \"type\": \"string\"}}\n",
      "3. write_file: Write file to disk, args json schema: {\"file_path\": {\"title\": \"File Path\", \"description\": \"name of file\", \"type\": \"string\"}, \"text\": {\"title\": \"Text\", \"description\": \"text to write to file\", \"type\": \"string\"}, \"append\": {\"title\": \"Append\", \"description\": \"Whether to append to an existing file.\", \"default\": false, \"type\": \"boolean\"}}\n",
      "4. read_file: Read file from disk, args json schema: {\"file_path\": {\"title\": \"File Path\", \"description\": \"name of file\", \"type\": \"string\"}}\n",
      "5. list_directory: List files and directories in a specified folder, args json schema: {\"dir_path\": {\"title\": \"Dir Path\", \"description\": \"Subdirectory to list.\", \"default\": \".\", \"type\": \"string\"}}\n",
      "6. Arxiv: A wrapper around Arxiv.org Useful for when you need to answer questions about Physics, Mathematics, Computer Science, Quantitative Biology, Quantitative Finance, Statistics, Electrical Engineering, and Economics from scientific articles on arxiv.org. Input should be a search query., args json schema: {\"query\": {\"title\": \"Query\", \"type\": \"string\"}}\n",
      "7. memorize: Read all text from a url and store in memory database. Use this first so information is loaded into memory!, args json schema: {\"url\": {\"title\": \"Url\", \"type\": \"string\"}}\n",
      "8. recall: Use this to recall information from memory database. It contains information about many papers, so it may not be specific to a single paper. Input is a question or topic to find in the memory., args json schema: {\"to_recall\": {\"title\": \"To Recall\", \"type\": \"string\"}}\n",
      "9. url-summary: Use this when you need to summarize a website for specific information. This tool generates more specific information than a web search. Input is json with two keys: \"url\" and \"topic\". \"url\" is the url of the website and \"data\" is the topic you want to summarize., args json schema: {\"url\": {\"title\": \"Url\", \"type\": \"string\"}, \"topic\": {\"title\": \"Topic\", \"type\": \"string\"}}\n",
      "10. finish: use this to signal that you have finished all your objectives, args: \"response\": \"final response to let people know you have finished your objectives\"\n",
      "\n",
      "You should only respond in JSON format as described below \n",
      "Response Format: \n",
      "{\n",
      "    \"thoughts\": {\n",
      "        \"text\": \"thought\",\n",
      "        \"reasoning\": \"reasoning\",\n",
      "        \"criticism\": \"constructive self-criticism\",\n",
      "        \"speak\": \"thoughts summary to say to user\"\n",
      "    },\n",
      "    \"command\": {\n",
      "        \"name\": \"command name\",\n",
      "        \"args\": {\n",
      "            \"arg name\": \"value\"\n",
      "        }\n",
      "    }\n",
      "} \n",
      "Ensure the response can be parsed by Python json.loads\n",
      "The current time and date is Sat Apr 29 17:28:32 2023\n",
      "This reminds you of these events from your past:\n",
      "[]\n",
      "\n",
      "\n",
      "m10\n",
      "m11\n",
      "m12\n",
      "m13\n",
      "m14\n",
      "m15\n",
      "m16\n",
      "m17\n",
      "m18\n",
      "m19\n",
      "user_input\n"
     ]
    }
   ],
   "source": [
    "out = ts.prompt.format_messages(\n",
    "    memory=memory.as_retriever(), \n",
    "    messages=messages,\n",
    "    objective=\"objective\",\n",
    "    task=\"task\",\n",
    "    user_input=\"user_input\")\n",
    "\n",
    "for o in out:\n",
    "    print(o.content)"
   ]
  }
 ],
 "metadata": {
  "kernelspec": {
   "display_name": "auto-wiki-Mm3_joNn-py3.10",
   "language": "python",
   "name": "python3"
  },
  "language_info": {
   "codemirror_mode": {
    "name": "ipython",
    "version": 3
   },
   "file_extension": ".py",
   "mimetype": "text/x-python",
   "name": "python",
   "nbconvert_exporter": "python",
   "pygments_lexer": "ipython3",
   "version": "3.10.10"
  },
  "orig_nbformat": 4
 },
 "nbformat": 4,
 "nbformat_minor": 2
}
