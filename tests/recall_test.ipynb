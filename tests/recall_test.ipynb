{
 "cells": [
  {
   "cell_type": "code",
   "execution_count": 1,
   "metadata": {},
   "outputs": [],
   "source": [
    "import sys"
   ]
  },
  {
   "cell_type": "code",
   "execution_count": 2,
   "metadata": {},
   "outputs": [],
   "source": [
    "sys.path.append(\"./../auto_wiki/\")"
   ]
  },
  {
   "cell_type": "code",
   "execution_count": 3,
   "metadata": {},
   "outputs": [
    {
     "name": "stderr",
     "output_type": "stream",
     "text": [
      "/Users/jef/Library/Caches/pypoetry/virtualenvs/auto-wiki-Mm3_joNn-py3.10/lib/python3.10/site-packages/pinecone/index.py:4: TqdmWarning: IProgress not found. Please update jupyter and ipywidgets. See https://ipywidgets.readthedocs.io/en/stable/user_install.html\n",
      "  from tqdm.autonotebook import tqdm\n"
     ]
    }
   ],
   "source": [
    "from run import make_tools, create_memory\n",
    "from utils import get_creds\n",
    "from langchain.chat_models import ChatOpenAI\n"
   ]
  },
  {
   "cell_type": "code",
   "execution_count": 4,
   "metadata": {},
   "outputs": [],
   "source": [
    "from importlib import reload\n",
    "import tools\n",
    "reload(tools)\n",
    "import tools\n",
    "\n",
    "keys = get_creds(\"../auto_wiki/credentials.json\")\n",
    "memory = create_memory(in_memory=False, keys=keys)\n",
    "llm = ChatOpenAI(model_name=\"gpt-4\", temperature=0, request_timeout=180)\n",
    "t = tools.RecallTool.from_llm(llm=llm, memory=memory, verbose=True)"
   ]
  },
  {
   "cell_type": "code",
   "execution_count": 5,
   "metadata": {},
   "outputs": [
    {
     "name": "stdout",
     "output_type": "stream",
     "text": [
      "[Document(page_content='components. In this section, we will further elaborate on the key issues involved in this procedure.\\n15', metadata={'page': 14.0, 'source': '/var/folders/z5/ng5jnyh57jsct7jhxv758_l40000gn/T/tmplishi66h'}), Document(page_content='for Computational Linguistics. URL https://aclanthology.org/D11-1124 .\\nDiyi Yang and Lucie Flek. Towards user-centric text-to-text generation: A survey. In Text, Speech, and\\nDialogue: 24th International Conference, TSD 2021, Olomouc, Czech Republic, September 6–9, 2021,\\nProceedings 24, pp. 3–22. Springer, 2021.\\n49', metadata={'page': 48.0, 'source': '/var/folders/z5/ng5jnyh57jsct7jhxv758_l40000gn/T/tmplishi66h'}), Document(page_content='2017 , volume 70 of Proceedings ofMachine Learning Research , pp. 3135–3144. PMLR, 2017. URL\\nhttp://proceedings.mlr.press/v70/shi17a.html .\\nMohit Shridhar, Xingdi Yuan, Marc-Alexandre Côté, Yonatan Bisk, Adam Trischler, and Matthew J.\\nHausknecht. Alfworld: Aligning text and embodied environments for interactive learning. In 9th\\nInternational Conference onLearning Representations, ICLR 2021, Virtual Event, Austria, May 3-7,2021 .\\nOpenReview.net, 2021. URL https://openreview.net/forum?id=0IOX0YcCdTn .\\nRobert W Shumaker, Kristina R Walkup, and Benjamin B Beck. Animal tool behavior: theuseand\\nmanufacture oftools byanimals. JHU Press, 2011.\\n46', metadata={'page': 45.0, 'source': '/var/folders/z5/ng5jnyh57jsct7jhxv758_l40000gn/T/tmplishi66h'}), Document(page_content='-\\n( 2 c ) :\\nP i c k\\nu p\\nt h e\\nb a l l\\no n\\nt h e\\nf l o o r .\\n-\\nE x p l a n a t i o n\\n:\\nC o m m a n d s\\nd o\\nn o t\\nh a v e\\ni n f o r m a t i o n\\nt o\\nv e r i f y .\\n-\\n( 2 d ) :\\nI t\\ni s\\nt h e\\ny e a r\\n2 3 0 0 .\\nR o b o t s\\nr u l e\\nt h e\\ne a r t h .Figure 9: Second page of the annotation guidelines.', metadata={'page': 20.0, 'source': '/var/folders/z5/ng5jnyh57jsct7jhxv758_l40000gn/T/tmpfru55kge'}), Document(page_content='care: The hope, the hype, the promise, the peril. Washington, DC: National Academy ofMedicine, 2019.\\nStarting Matlab. Matlab. TheMathWorks, Natick, MA, 2012.\\nPierre-Emmanuel Mazaré, Samuel Humeau, Martin Raison, and Antoine Bordes. Training millions of\\npersonalized dialogue agents. In Proceedings ofthe2018 Conference onEmpirical Methods inNatural\\nLanguage Processing , pp. 2775–2779, Brussels, Belgium, 2018. Association for Computational Linguistics.\\ndoi: 10.18653/v1/D18-1298. URL https://aclanthology.org/D18-1298 .\\n43', metadata={'page': 42.0, 'source': '/var/folders/z5/ng5jnyh57jsct7jhxv758_l40000gn/T/tmplishi66h'}), Document(page_content='E Additional Details\\nVersion Control\\nV5!V6. Fixed minor typo in Figure 3.\\nV4!V5. Added Codex and UL2 results. Small changes to writing and style of paper.\\nV3!V4. Fixed typo in Figure 3 and added a couple citations.\\nV2!V3. Added GPT-3 results. Added SV AMP and AQuA eval datasets for math. Added SayCan\\neval for commonsense. Added Extended Related Work section (Appendix C). Added ablations for\\nCommonsense and Symbolic Reasoning (Table 7). Added FAQ section (Appendix A). Added raw\\nresults in Appendix B.\\nV1!V2. Added PaLM results (V1 only had LaMDA).\\nE.1 Reproducibility Statement\\nAs our results make use of two sets of large language models that is not publicly available, we take\\nthe following actions to facilitate reproducibility. First, we provide the exact input prompts for all\\ntasks in Table 20–Table 27 in Appendix G (and emphasize that we do not perform any ﬁnetuning and\\nonly apply prompting to off-the-shelf language models). Second, we conduct experiments using the', metadata={'page': 29.0, 'source': '/var/folders/z5/ng5jnyh57jsct7jhxv758_l40000gn/T/tmpgpcgeell'}), Document(page_content='preprint, abs/2205.06175, 2022. URL https://arxiv.org/abs/2205.06175 .\\nEmanuelle Reynaud, Jordan Navarro, Mathieu Lesourd, and François Osiurak. To watch is to work: a review\\nof neuroimaging data on tool use observation network. Neuropsychology Review, 29:484–497, 2019.\\n45', metadata={'page': 44.0, 'source': '/var/folders/z5/ng5jnyh57jsct7jhxv758_l40000gn/T/tmplishi66h'}), Document(page_content='Model standard CoT standard CoT standard CoT standard CoT standard CoT standard CoT\\nUL2 20B 0.6 18.8 0.0 0.2 0.0 0.0 70.4 67.1 51.6 52.2 48.7 50.4\\nLaMDA 420M 0.3 1.6 0.0 0.0 0.0 0.0 52.9 49.6 50.0 50.5 49.5 49.1\\n2B 2.3 6.0 0.0 0.0 0.0 0.0 54.9 55.3 47.4 48.7 49.8 50.2\\n8B 1.5 11.5 0.0 0.0 0.0 0.0 52.9 55.5 48.2 49.6 51.2 50.6\\n68B 4.4 52.0 0.0 0.8 0.0 2.5 56.2 83.2 50.4 69.1 50.9 59.6\\n137B 5.8 77.5 0.034.4 0.013.5 49.0 99.6 50.7 91.0 49.1 74.5\\nPaLM 8B 2.6 18.8 0.0 0.0 0.0 0.2 60.0 74.4 47.3 57.1 50.9 51.8\\n62B 6.8 85.0 0.059.6 0.013.4 91.4 96.8 43.9 91.0 38.3 72.4\\n540B 7.6 99.4 0.294.8 0.063.0 98.1 100.0 49.3 98.6 54.8 90.2\\n22', metadata={'page': 21.0, 'source': '/var/folders/z5/ng5jnyh57jsct7jhxv758_l40000gn/T/tmptnbjla_a'})]\n"
     ]
    },
    {
     "data": {
      "text/plain": [
       "'This document discusses the evaluation of large language models, specifically focusing on their capabilities in understanding and generating text. It covers various aspects of language model evaluation, including commonsense reasoning, symbolic reasoning, and user-centric text-to-text generation. The document also provides details on the methodology, experiments, and results obtained from evaluating different language models. However, the document does not provide a specific conclusion or summary of the findings.'"
      ]
     },
     "execution_count": 5,
     "metadata": {},
     "output_type": "execute_result"
    }
   ],
   "source": [
    "t(\"overview of 2110.10819.pdf\")"
   ]
  }
 ],
 "metadata": {
  "kernelspec": {
   "display_name": "auto-wiki-Mm3_joNn-py3.10",
   "language": "python",
   "name": "python3"
  },
  "language_info": {
   "codemirror_mode": {
    "name": "ipython",
    "version": 3
   },
   "file_extension": ".py",
   "mimetype": "text/x-python",
   "name": "python",
   "nbconvert_exporter": "python",
   "pygments_lexer": "ipython3",
   "version": "3.10.10"
  },
  "orig_nbformat": 4
 },
 "nbformat": 4,
 "nbformat_minor": 2
}
